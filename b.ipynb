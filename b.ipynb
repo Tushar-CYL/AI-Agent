{
 "cells": [
  {
   "cell_type": "code",
   "execution_count": 1,
   "metadata": {},
   "outputs": [
    {
     "name": "stdout",
     "output_type": "stream",
     "text": [
      "Requirement already satisfied: phidata in c:\\users\\tusha\\appdata\\local\\programs\\python\\python312\\lib\\site-packages (2.7.2)Note: you may need to restart the kernel to use updated packages.\n",
      "\n",
      "Collecting phidata\n",
      "  Downloading phidata-2.7.3-py3-none-any.whl.metadata (18 kB)\n",
      "Requirement already satisfied: gitpython in c:\\users\\tusha\\appdata\\local\\programs\\python\\python312\\lib\\site-packages (from phidata) (3.1.41)\n",
      "Requirement already satisfied: httpx in c:\\users\\tusha\\appdata\\local\\programs\\python\\python312\\lib\\site-packages (from phidata) (0.27.2)\n",
      "Requirement already satisfied: pydantic in c:\\users\\tusha\\appdata\\local\\programs\\python\\python312\\lib\\site-packages (from phidata) (2.9.2)\n",
      "Requirement already satisfied: pydantic-settings in c:\\users\\tusha\\appdata\\local\\programs\\python\\python312\\lib\\site-packages (from phidata) (2.6.1)\n",
      "Requirement already satisfied: python-dotenv in c:\\users\\tusha\\appdata\\local\\programs\\python\\python312\\lib\\site-packages (from phidata) (1.0.0)\n",
      "Requirement already satisfied: pyyaml in c:\\users\\tusha\\appdata\\local\\programs\\python\\python312\\lib\\site-packages (from phidata) (6.0.1)\n",
      "Requirement already satisfied: rich in c:\\users\\tusha\\appdata\\local\\programs\\python\\python312\\lib\\site-packages (from phidata) (13.7.0)\n",
      "Requirement already satisfied: tomli in c:\\users\\tusha\\appdata\\local\\programs\\python\\python312\\lib\\site-packages (from phidata) (2.0.2)\n",
      "Requirement already satisfied: typer in c:\\users\\tusha\\appdata\\local\\programs\\python\\python312\\lib\\site-packages (from phidata) (0.9.0)\n",
      "Requirement already satisfied: typing-extensions in c:\\users\\tusha\\appdata\\local\\programs\\python\\python312\\lib\\site-packages (from phidata) (4.12.2)\n",
      "Requirement already satisfied: gitdb<5,>=4.0.1 in c:\\users\\tusha\\appdata\\local\\programs\\python\\python312\\lib\\site-packages (from gitpython->phidata) (4.0.11)\n",
      "Requirement already satisfied: anyio in c:\\users\\tusha\\appdata\\local\\programs\\python\\python312\\lib\\site-packages (from httpx->phidata) (4.0.0)\n",
      "Requirement already satisfied: certifi in c:\\users\\tusha\\appdata\\local\\programs\\python\\python312\\lib\\site-packages (from httpx->phidata) (2023.7.22)\n",
      "Requirement already satisfied: httpcore==1.* in c:\\users\\tusha\\appdata\\local\\programs\\python\\python312\\lib\\site-packages (from httpx->phidata) (1.0.7)\n",
      "Requirement already satisfied: idna in c:\\users\\tusha\\appdata\\local\\programs\\python\\python312\\lib\\site-packages (from httpx->phidata) (2.10)\n",
      "Requirement already satisfied: sniffio in c:\\users\\tusha\\appdata\\local\\programs\\python\\python312\\lib\\site-packages (from httpx->phidata) (1.3.0)\n",
      "Requirement already satisfied: h11<0.15,>=0.13 in c:\\users\\tusha\\appdata\\local\\programs\\python\\python312\\lib\\site-packages (from httpcore==1.*->httpx->phidata) (0.14.0)\n",
      "Requirement already satisfied: annotated-types>=0.6.0 in c:\\users\\tusha\\appdata\\local\\programs\\python\\python312\\lib\\site-packages (from pydantic->phidata) (0.6.0)\n",
      "Requirement already satisfied: pydantic-core==2.23.4 in c:\\users\\tusha\\appdata\\local\\programs\\python\\python312\\lib\\site-packages (from pydantic->phidata) (2.23.4)\n",
      "Requirement already satisfied: markdown-it-py>=2.2.0 in c:\\users\\tusha\\appdata\\local\\programs\\python\\python312\\lib\\site-packages (from rich->phidata) (3.0.0)\n",
      "Requirement already satisfied: pygments<3.0.0,>=2.13.0 in c:\\users\\tusha\\appdata\\roaming\\python\\python312\\site-packages (from rich->phidata) (2.17.2)\n",
      "Requirement already satisfied: click<9.0.0,>=7.1.1 in c:\\users\\tusha\\appdata\\local\\programs\\python\\python312\\lib\\site-packages (from typer->phidata) (8.1.7)\n",
      "Requirement already satisfied: colorama in c:\\users\\tusha\\appdata\\roaming\\python\\python312\\site-packages (from click<9.0.0,>=7.1.1->typer->phidata) (0.4.6)\n",
      "Requirement already satisfied: smmap<6,>=3.0.1 in c:\\users\\tusha\\appdata\\local\\programs\\python\\python312\\lib\\site-packages (from gitdb<5,>=4.0.1->gitpython->phidata) (5.0.1)\n",
      "Requirement already satisfied: mdurl~=0.1 in c:\\users\\tusha\\appdata\\local\\programs\\python\\python312\\lib\\site-packages (from markdown-it-py>=2.2.0->rich->phidata) (0.1.2)\n",
      "Downloading phidata-2.7.3-py3-none-any.whl (661 kB)\n",
      "   ---------------------------------------- 0.0/661.4 kB ? eta -:--:--\n",
      "   ---------------------------------------- 661.4/661.4 kB 8.5 MB/s eta 0:00:00\n",
      "Installing collected packages: phidata\n",
      "  Attempting uninstall: phidata\n",
      "    Found existing installation: phidata 2.7.2\n",
      "    Uninstalling phidata-2.7.2:\n",
      "      Successfully uninstalled phidata-2.7.2\n",
      "Successfully installed phidata-2.7.3\n"
     ]
    },
    {
     "name": "stderr",
     "output_type": "stream",
     "text": [
      "WARNING: Ignoring invalid distribution ~treamlit (c:\\Users\\tusha\\AppData\\Local\\Programs\\Python\\Python312\\Lib\\site-packages)\n",
      "WARNING: Ignoring invalid distribution ~treamlit (c:\\Users\\tusha\\AppData\\Local\\Programs\\Python\\Python312\\Lib\\site-packages)\n",
      "WARNING: Ignoring invalid distribution ~treamlit (c:\\Users\\tusha\\AppData\\Local\\Programs\\Python\\Python312\\Lib\\site-packages)\n"
     ]
    }
   ],
   "source": [
    "pip install -U phidata\n"
   ]
  },
  {
   "cell_type": "code",
   "execution_count": 4,
   "metadata": {},
   "outputs": [
    {
     "data": {
      "application/vnd.jupyter.widget-view+json": {
       "model_id": "09ce20c67df242cca805eda41b20a7b0",
       "version_major": 2,
       "version_minor": 0
      },
      "text/plain": [
       "Output()"
      ]
     },
     "metadata": {},
     "output_type": "display_data"
    },
    {
     "data": {
      "text/html": [
       "<pre style=\"white-space:pre;overflow-x:auto;line-height:normal;font-family:Menlo,'DejaVu Sans Mono',consolas,'Courier New',monospace\"></pre>\n"
      ],
      "text/plain": []
     },
     "metadata": {},
     "output_type": "display_data"
    }
   ],
   "source": [
    "from phi.agent import Agent\n",
    "from phi.model.groq import Groq\n",
    "from dotenv import load_dotenv\n",
    "# from phi.utils.identity import identity  # Adjust based on the file structure\n",
    "\n",
    "\n",
    "load_dotenv()\n",
    "\n",
    "agent = Agent(\n",
    "    model=Groq(id=\"llama-3.3-70b-versatile\")\n",
    ")\n",
    "\n",
    "agent.print_response(\"Share a 2 sentence love story between dosa and samosa\")"
   ]
  },
  {
   "cell_type": "code",
   "execution_count": 2,
   "metadata": {},
   "outputs": [
    {
     "data": {
      "text/html": [
       "<pre style=\"white-space:pre;overflow-x:auto;line-height:normal;font-family:Menlo,'DejaVu Sans Mono',consolas,'Courier New',monospace\"><span style=\"color: #800000; text-decoration-color: #800000; font-weight: bold\">ERROR   </span> OPENAI_API_KEY not set. Please set the OPENAI_API_KEY environment variable.                               \n",
       "</pre>\n"
      ],
      "text/plain": [
       "\u001b[1;31mERROR   \u001b[0m OPENAI_API_KEY not set. Please set the OPENAI_API_KEY environment variable.                               \n"
      ]
     },
     "metadata": {},
     "output_type": "display_data"
    },
    {
     "data": {
      "text/html": [
       "<pre style=\"white-space:pre;overflow-x:auto;line-height:normal;font-family:Menlo,'DejaVu Sans Mono',consolas,'Courier New',monospace\"></pre>\n"
      ],
      "text/plain": []
     },
     "metadata": {},
     "output_type": "display_data"
    },
    {
     "ename": "OpenAIError",
     "evalue": "The api_key client option must be set either by passing api_key to the client or by setting the OPENAI_API_KEY environment variable",
     "output_type": "error",
     "traceback": [
      "\u001b[1;31m---------------------------------------------------------------------------\u001b[0m",
      "\u001b[1;31mOpenAIError\u001b[0m                               Traceback (most recent call last)",
      "Cell \u001b[1;32mIn[2], line 13\u001b[0m\n\u001b[0;32m      3\u001b[0m \u001b[38;5;28;01mfrom\u001b[39;00m \u001b[38;5;21;01mphi\u001b[39;00m\u001b[38;5;21;01m.\u001b[39;00m\u001b[38;5;21;01mtools\u001b[39;00m\u001b[38;5;21;01m.\u001b[39;00m\u001b[38;5;21;01mduckduckgo\u001b[39;00m \u001b[38;5;28;01mimport\u001b[39;00m DuckDuckGo\n\u001b[0;32m      5\u001b[0m web_agent \u001b[38;5;241m=\u001b[39m Agent(\n\u001b[0;32m      6\u001b[0m     name\u001b[38;5;241m=\u001b[39m\u001b[38;5;124m\"\u001b[39m\u001b[38;5;124mWeb Agent\u001b[39m\u001b[38;5;124m\"\u001b[39m,\n\u001b[0;32m      7\u001b[0m     model\u001b[38;5;241m=\u001b[39mOpenAIChat(\u001b[38;5;28mid\u001b[39m\u001b[38;5;241m=\u001b[39m\u001b[38;5;124m\"\u001b[39m\u001b[38;5;124mgpt-4o\u001b[39m\u001b[38;5;124m\"\u001b[39m),\n\u001b[1;32m   (...)\u001b[0m\n\u001b[0;32m     11\u001b[0m     markdown\u001b[38;5;241m=\u001b[39m\u001b[38;5;28;01mTrue\u001b[39;00m,\n\u001b[0;32m     12\u001b[0m )\n\u001b[1;32m---> 13\u001b[0m \u001b[43mweb_agent\u001b[49m\u001b[38;5;241;43m.\u001b[39;49m\u001b[43mprint_response\u001b[49m\u001b[43m(\u001b[49m\u001b[38;5;124;43m\"\u001b[39;49m\u001b[38;5;124;43mTell me about OpenAI Sora?\u001b[39;49m\u001b[38;5;124;43m\"\u001b[39;49m\u001b[43m,\u001b[49m\u001b[43m \u001b[49m\u001b[43mstream\u001b[49m\u001b[38;5;241;43m=\u001b[39;49m\u001b[38;5;28;43;01mTrue\u001b[39;49;00m\u001b[43m)\u001b[49m\n",
      "File \u001b[1;32mc:\\Users\\tusha\\AppData\\Local\\Programs\\Python\\Python312\\Lib\\site-packages\\phi\\agent\\agent.py:2783\u001b[0m, in \u001b[0;36mAgent.print_response\u001b[1;34m(self, message, messages, stream, markdown, show_message, show_reasoning, show_full_reasoning, console, **kwargs)\u001b[0m\n\u001b[0;32m   2780\u001b[0m \u001b[38;5;28;01mif\u001b[39;00m render:\n\u001b[0;32m   2781\u001b[0m     live_log\u001b[38;5;241m.\u001b[39mupdate(Group(\u001b[38;5;241m*\u001b[39mpanels))\n\u001b[1;32m-> 2783\u001b[0m \u001b[43m\u001b[49m\u001b[38;5;28;43;01mfor\u001b[39;49;00m\u001b[43m \u001b[49m\u001b[43mresp\u001b[49m\u001b[43m \u001b[49m\u001b[38;5;129;43;01min\u001b[39;49;00m\u001b[43m \u001b[49m\u001b[38;5;28;43mself\u001b[39;49m\u001b[38;5;241;43m.\u001b[39;49m\u001b[43mrun\u001b[49m\u001b[43m(\u001b[49m\u001b[43mmessage\u001b[49m\u001b[38;5;241;43m=\u001b[39;49m\u001b[43mmessage\u001b[49m\u001b[43m,\u001b[49m\u001b[43m \u001b[49m\u001b[43mmessages\u001b[49m\u001b[38;5;241;43m=\u001b[39;49m\u001b[43mmessages\u001b[49m\u001b[43m,\u001b[49m\u001b[43m \u001b[49m\u001b[43mstream\u001b[49m\u001b[38;5;241;43m=\u001b[39;49m\u001b[38;5;28;43;01mTrue\u001b[39;49;00m\u001b[43m,\u001b[49m\u001b[43m \u001b[49m\u001b[38;5;241;43m*\u001b[39;49m\u001b[38;5;241;43m*\u001b[39;49m\u001b[43mkwargs\u001b[49m\u001b[43m)\u001b[49m\u001b[43m:\u001b[49m\n\u001b[0;32m   2784\u001b[0m \u001b[43m    \u001b[49m\u001b[38;5;28;43;01mif\u001b[39;49;00m\u001b[43m \u001b[49m\u001b[38;5;28;43misinstance\u001b[39;49m\u001b[43m(\u001b[49m\u001b[43mresp\u001b[49m\u001b[43m,\u001b[49m\u001b[43m \u001b[49m\u001b[43mRunResponse\u001b[49m\u001b[43m)\u001b[49m\u001b[43m \u001b[49m\u001b[38;5;129;43;01mand\u001b[39;49;00m\u001b[43m \u001b[49m\u001b[38;5;28;43misinstance\u001b[39;49m\u001b[43m(\u001b[49m\u001b[43mresp\u001b[49m\u001b[38;5;241;43m.\u001b[39;49m\u001b[43mcontent\u001b[49m\u001b[43m,\u001b[49m\u001b[43m \u001b[49m\u001b[38;5;28;43mstr\u001b[39;49m\u001b[43m)\u001b[49m\u001b[43m:\u001b[49m\n\u001b[0;32m   2785\u001b[0m \u001b[43m        \u001b[49m\u001b[38;5;28;43;01mif\u001b[39;49;00m\u001b[43m \u001b[49m\u001b[43mresp\u001b[49m\u001b[38;5;241;43m.\u001b[39;49m\u001b[43mevent\u001b[49m\u001b[43m \u001b[49m\u001b[38;5;241;43m==\u001b[39;49m\u001b[43m \u001b[49m\u001b[43mRunEvent\u001b[49m\u001b[38;5;241;43m.\u001b[39;49m\u001b[43mrun_response\u001b[49m\u001b[43m:\u001b[49m\n",
      "File \u001b[1;32mc:\\Users\\tusha\\AppData\\Local\\Programs\\Python\\Python312\\Lib\\site-packages\\phi\\agent\\agent.py:1794\u001b[0m, in \u001b[0;36mAgent._run\u001b[1;34m(self, message, stream, audio, images, videos, messages, stream_intermediate_steps, **kwargs)\u001b[0m\n\u001b[0;32m   1792\u001b[0m \u001b[38;5;28;01mif\u001b[39;00m \u001b[38;5;28mself\u001b[39m\u001b[38;5;241m.\u001b[39mstream:\n\u001b[0;32m   1793\u001b[0m     model_response \u001b[38;5;241m=\u001b[39m ModelResponse(content\u001b[38;5;241m=\u001b[39m\u001b[38;5;124m\"\u001b[39m\u001b[38;5;124m\"\u001b[39m)\n\u001b[1;32m-> 1794\u001b[0m \u001b[43m    \u001b[49m\u001b[38;5;28;43;01mfor\u001b[39;49;00m\u001b[43m \u001b[49m\u001b[43mmodel_response_chunk\u001b[49m\u001b[43m \u001b[49m\u001b[38;5;129;43;01min\u001b[39;49;00m\u001b[43m \u001b[49m\u001b[38;5;28;43mself\u001b[39;49m\u001b[38;5;241;43m.\u001b[39;49m\u001b[43mmodel\u001b[49m\u001b[38;5;241;43m.\u001b[39;49m\u001b[43mresponse_stream\u001b[49m\u001b[43m(\u001b[49m\u001b[43mmessages\u001b[49m\u001b[38;5;241;43m=\u001b[39;49m\u001b[43mmessages_for_model\u001b[49m\u001b[43m)\u001b[49m\u001b[43m:\u001b[49m\n\u001b[0;32m   1795\u001b[0m \u001b[43m        \u001b[49m\u001b[38;5;28;43;01mif\u001b[39;49;00m\u001b[43m \u001b[49m\u001b[43mmodel_response_chunk\u001b[49m\u001b[38;5;241;43m.\u001b[39;49m\u001b[43mevent\u001b[49m\u001b[43m \u001b[49m\u001b[38;5;241;43m==\u001b[39;49m\u001b[43m \u001b[49m\u001b[43mModelResponseEvent\u001b[49m\u001b[38;5;241;43m.\u001b[39;49m\u001b[43massistant_response\u001b[49m\u001b[38;5;241;43m.\u001b[39;49m\u001b[43mvalue\u001b[49m\u001b[43m:\u001b[49m\n\u001b[0;32m   1796\u001b[0m \u001b[43m            \u001b[49m\u001b[38;5;28;43;01mif\u001b[39;49;00m\u001b[43m \u001b[49m\u001b[43mmodel_response_chunk\u001b[49m\u001b[38;5;241;43m.\u001b[39;49m\u001b[43mcontent\u001b[49m\u001b[43m \u001b[49m\u001b[38;5;129;43;01mis\u001b[39;49;00m\u001b[43m \u001b[49m\u001b[38;5;129;43;01mnot\u001b[39;49;00m\u001b[43m \u001b[49m\u001b[38;5;28;43;01mNone\u001b[39;49;00m\u001b[43m \u001b[49m\u001b[38;5;129;43;01mand\u001b[39;49;00m\u001b[43m \u001b[49m\u001b[43mmodel_response\u001b[49m\u001b[38;5;241;43m.\u001b[39;49m\u001b[43mcontent\u001b[49m\u001b[43m \u001b[49m\u001b[38;5;129;43;01mis\u001b[39;49;00m\u001b[43m \u001b[49m\u001b[38;5;129;43;01mnot\u001b[39;49;00m\u001b[43m \u001b[49m\u001b[38;5;28;43;01mNone\u001b[39;49;00m\u001b[43m:\u001b[49m\n",
      "File \u001b[1;32mc:\\Users\\tusha\\AppData\\Local\\Programs\\Python\\Python312\\Lib\\site-packages\\phi\\model\\openai\\chat.py:838\u001b[0m, in \u001b[0;36mOpenAIChat.response_stream\u001b[1;34m(self, messages)\u001b[0m\n\u001b[0;32m    836\u001b[0m \u001b[38;5;66;03m# -*- Generate response\u001b[39;00m\n\u001b[0;32m    837\u001b[0m metrics\u001b[38;5;241m.\u001b[39mresponse_timer\u001b[38;5;241m.\u001b[39mstart()\n\u001b[1;32m--> 838\u001b[0m \u001b[43m\u001b[49m\u001b[38;5;28;43;01mfor\u001b[39;49;00m\u001b[43m \u001b[49m\u001b[43mresponse\u001b[49m\u001b[43m \u001b[49m\u001b[38;5;129;43;01min\u001b[39;49;00m\u001b[43m \u001b[49m\u001b[38;5;28;43mself\u001b[39;49m\u001b[38;5;241;43m.\u001b[39;49m\u001b[43minvoke_stream\u001b[49m\u001b[43m(\u001b[49m\u001b[43mmessages\u001b[49m\u001b[38;5;241;43m=\u001b[39;49m\u001b[43mmessages\u001b[49m\u001b[43m)\u001b[49m\u001b[43m:\u001b[49m\n\u001b[0;32m    839\u001b[0m \u001b[43m    \u001b[49m\u001b[38;5;28;43;01mif\u001b[39;49;00m\u001b[43m \u001b[49m\u001b[38;5;28;43mlen\u001b[39;49m\u001b[43m(\u001b[49m\u001b[43mresponse\u001b[49m\u001b[38;5;241;43m.\u001b[39;49m\u001b[43mchoices\u001b[49m\u001b[43m)\u001b[49m\u001b[43m \u001b[49m\u001b[38;5;241;43m>\u001b[39;49m\u001b[43m \u001b[49m\u001b[38;5;241;43m0\u001b[39;49m\u001b[43m:\u001b[49m\n\u001b[0;32m    840\u001b[0m \u001b[43m        \u001b[49m\u001b[43mmetrics\u001b[49m\u001b[38;5;241;43m.\u001b[39;49m\u001b[43mcompletion_tokens\u001b[49m\u001b[43m \u001b[49m\u001b[38;5;241;43m+\u001b[39;49m\u001b[38;5;241;43m=\u001b[39;49m\u001b[43m \u001b[49m\u001b[38;5;241;43m1\u001b[39;49m\n",
      "File \u001b[1;32mc:\\Users\\tusha\\AppData\\Local\\Programs\\Python\\Python312\\Lib\\site-packages\\phi\\model\\openai\\chat.py:374\u001b[0m, in \u001b[0;36mOpenAIChat.invoke_stream\u001b[1;34m(self, messages)\u001b[0m\n\u001b[0;32m    364\u001b[0m \u001b[38;5;28;01mdef\u001b[39;00m \u001b[38;5;21minvoke_stream\u001b[39m(\u001b[38;5;28mself\u001b[39m, messages: List[Message]) \u001b[38;5;241m-\u001b[39m\u001b[38;5;241m>\u001b[39m Iterator[ChatCompletionChunk]:\n\u001b[0;32m    365\u001b[0m \u001b[38;5;250m    \u001b[39m\u001b[38;5;124;03m\"\"\"\u001b[39;00m\n\u001b[0;32m    366\u001b[0m \u001b[38;5;124;03m    Send a streaming chat completion request to the OpenAI API.\u001b[39;00m\n\u001b[0;32m    367\u001b[0m \n\u001b[1;32m   (...)\u001b[0m\n\u001b[0;32m    372\u001b[0m \u001b[38;5;124;03m        Iterator[ChatCompletionChunk]: An iterator of chat completion chunks.\u001b[39;00m\n\u001b[0;32m    373\u001b[0m \u001b[38;5;124;03m    \"\"\"\u001b[39;00m\n\u001b[1;32m--> 374\u001b[0m     \u001b[38;5;28;01myield from\u001b[39;00m \u001b[38;5;28;43mself\u001b[39;49m\u001b[38;5;241;43m.\u001b[39;49m\u001b[43mget_client\u001b[49m\u001b[43m(\u001b[49m\u001b[43m)\u001b[49m\u001b[38;5;241m.\u001b[39mchat\u001b[38;5;241m.\u001b[39mcompletions\u001b[38;5;241m.\u001b[39mcreate(\n\u001b[0;32m    375\u001b[0m         model\u001b[38;5;241m=\u001b[39m\u001b[38;5;28mself\u001b[39m\u001b[38;5;241m.\u001b[39mid,\n\u001b[0;32m    376\u001b[0m         messages\u001b[38;5;241m=\u001b[39m[\u001b[38;5;28mself\u001b[39m\u001b[38;5;241m.\u001b[39mformat_message(m) \u001b[38;5;28;01mfor\u001b[39;00m m \u001b[38;5;129;01min\u001b[39;00m messages],  \u001b[38;5;66;03m# type: ignore\u001b[39;00m\n\u001b[0;32m    377\u001b[0m         stream\u001b[38;5;241m=\u001b[39m\u001b[38;5;28;01mTrue\u001b[39;00m,\n\u001b[0;32m    378\u001b[0m         stream_options\u001b[38;5;241m=\u001b[39m{\u001b[38;5;124m\"\u001b[39m\u001b[38;5;124minclude_usage\u001b[39m\u001b[38;5;124m\"\u001b[39m: \u001b[38;5;28;01mTrue\u001b[39;00m},\n\u001b[0;32m    379\u001b[0m         \u001b[38;5;241m*\u001b[39m\u001b[38;5;241m*\u001b[39m\u001b[38;5;28mself\u001b[39m\u001b[38;5;241m.\u001b[39mrequest_kwargs,\n\u001b[0;32m    380\u001b[0m     )\n",
      "File \u001b[1;32mc:\\Users\\tusha\\AppData\\Local\\Programs\\Python\\Python312\\Lib\\site-packages\\phi\\model\\openai\\chat.py:157\u001b[0m, in \u001b[0;36mOpenAIChat.get_client\u001b[1;34m(self)\u001b[0m\n\u001b[0;32m    155\u001b[0m \u001b[38;5;28;01mif\u001b[39;00m \u001b[38;5;28mself\u001b[39m\u001b[38;5;241m.\u001b[39mhttp_client \u001b[38;5;129;01mis\u001b[39;00m \u001b[38;5;129;01mnot\u001b[39;00m \u001b[38;5;28;01mNone\u001b[39;00m:\n\u001b[0;32m    156\u001b[0m     client_params[\u001b[38;5;124m\"\u001b[39m\u001b[38;5;124mhttp_client\u001b[39m\u001b[38;5;124m\"\u001b[39m] \u001b[38;5;241m=\u001b[39m \u001b[38;5;28mself\u001b[39m\u001b[38;5;241m.\u001b[39mhttp_client\n\u001b[1;32m--> 157\u001b[0m \u001b[38;5;28;01mreturn\u001b[39;00m \u001b[43mOpenAIClient\u001b[49m\u001b[43m(\u001b[49m\u001b[38;5;241;43m*\u001b[39;49m\u001b[38;5;241;43m*\u001b[39;49m\u001b[43mclient_params\u001b[49m\u001b[43m)\u001b[49m\n",
      "File \u001b[1;32mc:\\Users\\tusha\\AppData\\Local\\Programs\\Python\\Python312\\Lib\\site-packages\\openai\\_client.py:101\u001b[0m, in \u001b[0;36mOpenAI.__init__\u001b[1;34m(self, api_key, organization, project, base_url, timeout, max_retries, default_headers, default_query, http_client, _strict_response_validation)\u001b[0m\n\u001b[0;32m     99\u001b[0m     api_key \u001b[38;5;241m=\u001b[39m os\u001b[38;5;241m.\u001b[39menviron\u001b[38;5;241m.\u001b[39mget(\u001b[38;5;124m\"\u001b[39m\u001b[38;5;124mOPENAI_API_KEY\u001b[39m\u001b[38;5;124m\"\u001b[39m)\n\u001b[0;32m    100\u001b[0m \u001b[38;5;28;01mif\u001b[39;00m api_key \u001b[38;5;129;01mis\u001b[39;00m \u001b[38;5;28;01mNone\u001b[39;00m:\n\u001b[1;32m--> 101\u001b[0m     \u001b[38;5;28;01mraise\u001b[39;00m OpenAIError(\n\u001b[0;32m    102\u001b[0m         \u001b[38;5;124m\"\u001b[39m\u001b[38;5;124mThe api_key client option must be set either by passing api_key to the client or by setting the OPENAI_API_KEY environment variable\u001b[39m\u001b[38;5;124m\"\u001b[39m\n\u001b[0;32m    103\u001b[0m     )\n\u001b[0;32m    104\u001b[0m \u001b[38;5;28mself\u001b[39m\u001b[38;5;241m.\u001b[39mapi_key \u001b[38;5;241m=\u001b[39m api_key\n\u001b[0;32m    106\u001b[0m \u001b[38;5;28;01mif\u001b[39;00m organization \u001b[38;5;129;01mis\u001b[39;00m \u001b[38;5;28;01mNone\u001b[39;00m:\n",
      "\u001b[1;31mOpenAIError\u001b[0m: The api_key client option must be set either by passing api_key to the client or by setting the OPENAI_API_KEY environment variable"
     ]
    }
   ],
   "source": [
    "from phi.agent import Agent\n",
    "from phi.model.openai import OpenAIChat\n",
    "from phi.tools.duckduckgo import DuckDuckGo\n",
    "\n",
    "web_agent = Agent(\n",
    "    name=\"Web Agent\",\n",
    "    model=OpenAIChat(id=\"gpt-4o\"),\n",
    "    tools=[DuckDuckGo()],\n",
    "    instructions=[\"Always include sources\"],\n",
    "    show_tool_calls=True,\n",
    "    markdown=True,\n",
    ")\n",
    "web_agent.print_response(\"Tell me about OpenAI Sora?\", stream=True)\n"
   ]
  },
  {
   "cell_type": "code",
   "execution_count": 3,
   "metadata": {},
   "outputs": [
    {
     "name": "stdout",
     "output_type": "stream",
     "text": [
      "Requirement already satisfied: phidata in c:\\users\\tusha\\appdata\\local\\programs\\python\\python312\\lib\\site-packages (2.7.2)\n",
      "Requirement already satisfied: openai in c:\\users\\tusha\\appdata\\local\\programs\\python\\python312\\lib\\site-packages (1.54.3)\n",
      "Collecting openai\n",
      "  Downloading openai-1.57.4-py3-none-any.whl.metadata (24 kB)\n",
      "Collecting duckduckgo-search\n",
      "  Downloading duckduckgo_search-6.4.1-py3-none-any.whl.metadata (25 kB)\n",
      "Requirement already satisfied: gitpython in c:\\users\\tusha\\appdata\\local\\programs\\python\\python312\\lib\\site-packages (from phidata) (3.1.41)\n",
      "Requirement already satisfied: httpx in c:\\users\\tusha\\appdata\\local\\programs\\python\\python312\\lib\\site-packages (from phidata) (0.27.2)\n",
      "Requirement already satisfied: pydantic in c:\\users\\tusha\\appdata\\local\\programs\\python\\python312\\lib\\site-packages (from phidata) (2.9.2)\n",
      "Requirement already satisfied: pydantic-settings in c:\\users\\tusha\\appdata\\local\\programs\\python\\python312\\lib\\site-packages (from phidata) (2.6.1)\n",
      "Requirement already satisfied: python-dotenv in c:\\users\\tusha\\appdata\\local\\programs\\python\\python312\\lib\\site-packages (from phidata) (1.0.0)\n",
      "Requirement already satisfied: pyyaml in c:\\users\\tusha\\appdata\\local\\programs\\python\\python312\\lib\\site-packages (from phidata) (6.0.1)\n",
      "Requirement already satisfied: rich in c:\\users\\tusha\\appdata\\local\\programs\\python\\python312\\lib\\site-packages (from phidata) (13.7.0)\n",
      "Requirement already satisfied: tomli in c:\\users\\tusha\\appdata\\local\\programs\\python\\python312\\lib\\site-packages (from phidata) (2.0.2)\n",
      "Requirement already satisfied: typer in c:\\users\\tusha\\appdata\\local\\programs\\python\\python312\\lib\\site-packages (from phidata) (0.9.0)\n",
      "Requirement already satisfied: typing-extensions in c:\\users\\tusha\\appdata\\local\\programs\\python\\python312\\lib\\site-packages (from phidata) (4.12.2)\n",
      "Requirement already satisfied: anyio<5,>=3.5.0 in c:\\users\\tusha\\appdata\\local\\programs\\python\\python312\\lib\\site-packages (from openai) (4.0.0)\n",
      "Requirement already satisfied: distro<2,>=1.7.0 in c:\\users\\tusha\\appdata\\local\\programs\\python\\python312\\lib\\site-packages (from openai) (1.9.0)\n",
      "Requirement already satisfied: jiter<1,>=0.4.0 in c:\\users\\tusha\\appdata\\local\\programs\\python\\python312\\lib\\site-packages (from openai) (0.5.0)\n",
      "Requirement already satisfied: sniffio in c:\\users\\tusha\\appdata\\local\\programs\\python\\python312\\lib\\site-packages (from openai) (1.3.0)\n",
      "Requirement already satisfied: tqdm>4 in c:\\users\\tusha\\appdata\\local\\programs\\python\\python312\\lib\\site-packages (from openai) (4.67.0)\n",
      "Requirement already satisfied: click>=8.1.7 in c:\\users\\tusha\\appdata\\local\\programs\\python\\python312\\lib\\site-packages (from duckduckgo-search) (8.1.7)\n",
      "Collecting primp>=0.8.3 (from duckduckgo-search)\n",
      "  Downloading primp-0.8.3-cp38-abi3-win_amd64.whl.metadata (12 kB)\n",
      "Requirement already satisfied: idna>=2.8 in c:\\users\\tusha\\appdata\\local\\programs\\python\\python312\\lib\\site-packages (from anyio<5,>=3.5.0->openai) (2.10)\n",
      "Requirement already satisfied: colorama in c:\\users\\tusha\\appdata\\roaming\\python\\python312\\site-packages (from click>=8.1.7->duckduckgo-search) (0.4.6)\n",
      "Requirement already satisfied: certifi in c:\\users\\tusha\\appdata\\local\\programs\\python\\python312\\lib\\site-packages (from httpx->phidata) (2023.7.22)\n",
      "Requirement already satisfied: httpcore==1.* in c:\\users\\tusha\\appdata\\local\\programs\\python\\python312\\lib\\site-packages (from httpx->phidata) (1.0.7)\n",
      "Requirement already satisfied: h11<0.15,>=0.13 in c:\\users\\tusha\\appdata\\local\\programs\\python\\python312\\lib\\site-packages (from httpcore==1.*->httpx->phidata) (0.14.0)\n",
      "Requirement already satisfied: annotated-types>=0.6.0 in c:\\users\\tusha\\appdata\\local\\programs\\python\\python312\\lib\\site-packages (from pydantic->phidata) (0.6.0)\n",
      "Requirement already satisfied: pydantic-core==2.23.4 in c:\\users\\tusha\\appdata\\local\\programs\\python\\python312\\lib\\site-packages (from pydantic->phidata) (2.23.4)\n",
      "Requirement already satisfied: gitdb<5,>=4.0.1 in c:\\users\\tusha\\appdata\\local\\programs\\python\\python312\\lib\\site-packages (from gitpython->phidata) (4.0.11)\n",
      "Requirement already satisfied: markdown-it-py>=2.2.0 in c:\\users\\tusha\\appdata\\local\\programs\\python\\python312\\lib\\site-packages (from rich->phidata) (3.0.0)\n",
      "Requirement already satisfied: pygments<3.0.0,>=2.13.0 in c:\\users\\tusha\\appdata\\roaming\\python\\python312\\site-packages (from rich->phidata) (2.17.2)\n",
      "Requirement already satisfied: smmap<6,>=3.0.1 in c:\\users\\tusha\\appdata\\local\\programs\\python\\python312\\lib\\site-packages (from gitdb<5,>=4.0.1->gitpython->phidata) (5.0.1)\n",
      "Requirement already satisfied: mdurl~=0.1 in c:\\users\\tusha\\appdata\\local\\programs\\python\\python312\\lib\\site-packages (from markdown-it-py>=2.2.0->rich->phidata) (0.1.2)\n",
      "Downloading openai-1.57.4-py3-none-any.whl (390 kB)\n",
      "Downloading duckduckgo_search-6.4.1-py3-none-any.whl (39 kB)\n",
      "Downloading primp-0.8.3-cp38-abi3-win_amd64.whl (2.9 MB)\n",
      "   ---------------------------------------- 0.0/2.9 MB ? eta -:--:--\n",
      "   ------- -------------------------------- 0.5/2.9 MB 16.4 MB/s eta 0:00:01\n",
      "   ------- -------------------------------- 0.5/2.9 MB 16.4 MB/s eta 0:00:01\n",
      "   -------------- ------------------------- 1.0/2.9 MB 1.5 MB/s eta 0:00:02\n",
      "   -------------- ------------------------- 1.0/2.9 MB 1.5 MB/s eta 0:00:02\n",
      "   -------------- ------------------------- 1.0/2.9 MB 1.5 MB/s eta 0:00:02\n",
      "   ----------------- ---------------------- 1.3/2.9 MB 1.0 MB/s eta 0:00:02\n",
      "   ----------------- ---------------------- 1.3/2.9 MB 1.0 MB/s eta 0:00:02\n",
      "   ----------------- ---------------------- 1.3/2.9 MB 1.0 MB/s eta 0:00:02\n",
      "   ----------------- ---------------------- 1.3/2.9 MB 1.0 MB/s eta 0:00:02\n",
      "   ---------------------------- ----------- 2.1/2.9 MB 903.5 kB/s eta 0:00:01\n",
      "   ----------------------------------- ---- 2.6/2.9 MB 1.1 MB/s eta 0:00:01\n",
      "   ---------------------------------------- 2.9/2.9 MB 1.1 MB/s eta 0:00:00\n",
      "Installing collected packages: primp, duckduckgo-search, openai\n",
      "  Attempting uninstall: openai\n",
      "    Found existing installation: openai 1.54.3\n",
      "    Uninstalling openai-1.54.3:\n",
      "      Successfully uninstalled openai-1.54.3\n",
      "Successfully installed duckduckgo-search-6.4.1 openai-1.57.4 primp-0.8.3\n",
      "Note: you may need to restart the kernel to use updated packages.\n"
     ]
    },
    {
     "name": "stderr",
     "output_type": "stream",
     "text": [
      "WARNING: Ignoring invalid distribution ~treamlit (c:\\Users\\tusha\\AppData\\Local\\Programs\\Python\\Python312\\Lib\\site-packages)\n",
      "WARNING: Ignoring invalid distribution ~treamlit (c:\\Users\\tusha\\AppData\\Local\\Programs\\Python\\Python312\\Lib\\site-packages)\n",
      "WARNING: Ignoring invalid distribution ~treamlit (c:\\Users\\tusha\\AppData\\Local\\Programs\\Python\\Python312\\Lib\\site-packages)\n",
      "ERROR: pip's dependency resolver does not currently take into account all the packages that are installed. This behaviour is the source of the following dependency conflicts.\n",
      "instructor 1.6.3 requires tenacity<10.0.0,>=9.0.0, but you have tenacity 8.5.0 which is incompatible.\n"
     ]
    }
   ],
   "source": [
    "pip install -U phidata openai duckduckgo-search\n"
   ]
  },
  {
   "cell_type": "code",
   "execution_count": 6,
   "metadata": {},
   "outputs": [
    {
     "ename": "SyntaxError",
     "evalue": "invalid syntax (1380012669.py, line 1)",
     "output_type": "error",
     "traceback": [
      "\u001b[1;36m  Cell \u001b[1;32mIn[6], line 1\u001b[1;36m\u001b[0m\n\u001b[1;33m    python3 -m venv aienv\u001b[0m\n\u001b[1;37m               ^\u001b[0m\n\u001b[1;31mSyntaxError\u001b[0m\u001b[1;31m:\u001b[0m invalid syntax\n"
     ]
    }
   ],
   "source": [
    "python3 -m venv aienv"
   ]
  },
  {
   "cell_type": "code",
   "execution_count": 5,
   "metadata": {},
   "outputs": [
    {
     "name": "stdout",
     "output_type": "stream",
     "text": [
      "Requirement already satisfied: yfinance in c:\\users\\tusha\\appdata\\local\\programs\\python\\python312\\lib\\site-packages (0.2.50)\n",
      "Requirement already satisfied: pandas>=1.3.0 in c:\\users\\tusha\\appdata\\local\\programs\\python\\python312\\lib\\site-packages (from yfinance) (2.2.1)\n",
      "Requirement already satisfied: numpy>=1.16.5 in c:\\users\\tusha\\appdata\\local\\programs\\python\\python312\\lib\\site-packages (from yfinance) (1.26.1)\n",
      "Requirement already satisfied: requests>=2.31 in c:\\users\\tusha\\appdata\\local\\programs\\python\\python312\\lib\\site-packages (from yfinance) (2.32.3)\n",
      "Requirement already satisfied: multitasking>=0.0.7 in c:\\users\\tusha\\appdata\\local\\programs\\python\\python312\\lib\\site-packages (from yfinance) (0.0.11)\n",
      "Requirement already satisfied: lxml>=4.9.1 in c:\\users\\tusha\\appdata\\local\\programs\\python\\python312\\lib\\site-packages (from yfinance) (4.9.3)\n",
      "Requirement already satisfied: platformdirs>=2.0.0 in c:\\users\\tusha\\appdata\\roaming\\python\\python312\\site-packages (from yfinance) (4.2.0)\n",
      "Requirement already satisfied: pytz>=2022.5 in c:\\users\\tusha\\appdata\\local\\programs\\python\\python312\\lib\\site-packages (from yfinance) (2024.2)\n",
      "Requirement already satisfied: frozendict>=2.3.4 in c:\\users\\tusha\\appdata\\local\\programs\\python\\python312\\lib\\site-packages (from yfinance) (2.4.6)\n",
      "Requirement already satisfied: peewee>=3.16.2 in c:\\users\\tusha\\appdata\\local\\programs\\python\\python312\\lib\\site-packages (from yfinance) (3.17.8)\n",
      "Requirement already satisfied: beautifulsoup4>=4.11.1 in c:\\users\\tusha\\appdata\\local\\programs\\python\\python312\\lib\\site-packages (from yfinance) (4.12.3)\n",
      "Requirement already satisfied: html5lib>=1.1 in c:\\users\\tusha\\appdata\\local\\programs\\python\\python312\\lib\\site-packages (from yfinance) (1.1)\n",
      "Requirement already satisfied: soupsieve>1.2 in c:\\users\\tusha\\appdata\\local\\programs\\python\\python312\\lib\\site-packages (from beautifulsoup4>=4.11.1->yfinance) (2.5)\n",
      "Requirement already satisfied: six>=1.9 in c:\\users\\tusha\\appdata\\roaming\\python\\python312\\site-packages (from html5lib>=1.1->yfinance) (1.16.0)\n",
      "Requirement already satisfied: webencodings in c:\\users\\tusha\\appdata\\local\\programs\\python\\python312\\lib\\site-packages (from html5lib>=1.1->yfinance) (0.5.1)\n",
      "Requirement already satisfied: python-dateutil>=2.8.2 in c:\\users\\tusha\\appdata\\roaming\\python\\python312\\site-packages (from pandas>=1.3.0->yfinance) (2.9.0.post0)\n",
      "Requirement already satisfied: tzdata>=2022.7 in c:\\users\\tusha\\appdata\\local\\programs\\python\\python312\\lib\\site-packages (from pandas>=1.3.0->yfinance) (2023.3)\n",
      "Requirement already satisfied: charset-normalizer<4,>=2 in c:\\users\\tusha\\appdata\\local\\programs\\python\\python312\\lib\\site-packages (from requests>=2.31->yfinance) (3.3.2)\n",
      "Requirement already satisfied: idna<4,>=2.5 in c:\\users\\tusha\\appdata\\local\\programs\\python\\python312\\lib\\site-packages (from requests>=2.31->yfinance) (2.10)\n",
      "Requirement already satisfied: urllib3<3,>=1.21.1 in c:\\users\\tusha\\appdata\\local\\programs\\python\\python312\\lib\\site-packages (from requests>=2.31->yfinance) (2.1.0)\n",
      "Requirement already satisfied: certifi>=2017.4.17 in c:\\users\\tusha\\appdata\\local\\programs\\python\\python312\\lib\\site-packages (from requests>=2.31->yfinance) (2023.7.22)\n",
      "Note: you may need to restart the kernel to use updated packages.\n"
     ]
    },
    {
     "name": "stderr",
     "output_type": "stream",
     "text": [
      "WARNING: Ignoring invalid distribution ~treamlit (c:\\Users\\tusha\\AppData\\Local\\Programs\\Python\\Python312\\Lib\\site-packages)\n",
      "WARNING: Ignoring invalid distribution ~treamlit (c:\\Users\\tusha\\AppData\\Local\\Programs\\Python\\Python312\\Lib\\site-packages)\n",
      "WARNING: Ignoring invalid distribution ~treamlit (c:\\Users\\tusha\\AppData\\Local\\Programs\\Python\\Python312\\Lib\\site-packages)\n"
     ]
    }
   ],
   "source": [
    "pip install yfinance\n"
   ]
  },
  {
   "cell_type": "code",
   "execution_count": null,
   "metadata": {},
   "outputs": [],
   "source": []
  }
 ],
 "metadata": {
  "kernelspec": {
   "display_name": "Python 3",
   "language": "python",
   "name": "python3"
  },
  "language_info": {
   "codemirror_mode": {
    "name": "ipython",
    "version": 3
   },
   "file_extension": ".py",
   "mimetype": "text/x-python",
   "name": "python",
   "nbconvert_exporter": "python",
   "pygments_lexer": "ipython3",
   "version": "3.12.3"
  }
 },
 "nbformat": 4,
 "nbformat_minor": 2
}
